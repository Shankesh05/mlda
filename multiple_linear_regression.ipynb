{
 "cells": [
  {
   "cell_type": "code",
   "execution_count": 5,
   "id": "314a0055",
   "metadata": {},
   "outputs": [
    {
     "name": "stdout",
     "output_type": "stream",
     "text": [
      "First 5 rows of data:\n",
      "     mpg  cylinders  displacement horsepower  weight  acceleration  model year  \\\n",
      "0  18.0          8         307.0        130    3504          12.0          70   \n",
      "1  15.0          8         350.0        165    3693          11.5          70   \n",
      "2  18.0          8         318.0        150    3436          11.0          70   \n",
      "3  16.0          8         304.0        150    3433          12.0          70   \n",
      "4  17.0          8         302.0        140    3449          10.5          70   \n",
      "\n",
      "   origin                   car name  \n",
      "0       1  chevrolet chevelle malibu  \n",
      "1       1          buick skylark 320  \n",
      "2       1         plymouth satellite  \n",
      "3       1              amc rebel sst  \n",
      "4       1                ford torino   \n",
      "\n",
      "Final dataset shape: (392, 7) (392,) \n",
      "\n",
      "Linear Regression MSE: 11.669166827122238\n",
      "Linear Regression R2: 0.7912565395128667\n"
     ]
    }
   ],
   "source": [
    "import pandas as pd\n",
    "from sklearn.model_selection import train_test_split\n",
    "from sklearn.linear_model import LinearRegression\n",
    "from sklearn.metrics import mean_squared_error, r2_score\n",
    "\n",
    "# Step 1: Load dataset\n",
    "data = pd.read_csv(r\"data\\auto-mpg.csv\")\n",
    "print(\"First 5 rows of data:\\n\", data.head(), \"\\n\")\n",
    "\n",
    "# Step 2: Rename columns for easier handling\n",
    "data.rename(columns={'model year': 'model_year', 'car name': 'car_name'}, inplace=True)\n",
    "\n",
    "# Step 3: Replace '?' with NaN and drop rows with missing values\n",
    "data = data.replace('?', pd.NA)\n",
    "data = data.dropna()\n",
    "\n",
    "# Step 4: Convert horsepower to float\n",
    "data['horsepower'] = data['horsepower'].astype(float)\n",
    "\n",
    "# Step 5: Select features and target\n",
    "features = ['cylinders', 'displacement', 'horsepower', 'weight', 'acceleration', 'model_year', 'origin']\n",
    "X = data[features]\n",
    "y = data['mpg']\n",
    "print(\"Final dataset shape:\", X.shape, y.shape, \"\\n\")\n",
    "\n",
    "# Step 6: Split into training & test set\n",
    "x_train, x_test, y_train, y_test = train_test_split(X, y, test_size=0.2, random_state=2)\n",
    "\n",
    "# Step 7: Train Linear Regression model\n",
    "lrr = LinearRegression()\n",
    "lrr.fit(x_train, y_train)\n",
    "\n",
    "# Step 8: Predictions\n",
    "y_pred = lrr.predict(x_test)\n",
    "\n",
    "# Step 9: Evaluation\n",
    "mse = mean_squared_error(y_test, y_pred)\n",
    "r2 = r2_score(y_test, y_pred)\n",
    "\n",
    "print(\"Linear Regression MSE:\", mse)\n",
    "print(\"Linear Regression R2:\", r2)\n"
   ]
  }
 ],
 "metadata": {
  "kernelspec": {
   "display_name": "Python 3",
   "language": "python",
   "name": "python3"
  },
  "language_info": {
   "codemirror_mode": {
    "name": "ipython",
    "version": 3
   },
   "file_extension": ".py",
   "mimetype": "text/x-python",
   "name": "python",
   "nbconvert_exporter": "python",
   "pygments_lexer": "ipython3",
   "version": "3.12.6"
  }
 },
 "nbformat": 4,
 "nbformat_minor": 5
}
