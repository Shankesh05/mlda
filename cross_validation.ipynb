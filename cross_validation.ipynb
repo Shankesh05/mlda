{
 "cells": [
  {
   "cell_type": "code",
   "execution_count": 1,
   "id": "d646a1b1",
   "metadata": {},
   "outputs": [
    {
     "name": "stdout",
     "output_type": "stream",
     "text": [
      "Cross Validation Scores:  [1.         1.         1.         0.93333333 0.93333333 0.86666667\n",
      " 1.         0.86666667 0.93333333 1.        ]\n",
      "Cross Validation Scores:  [1.         1.         1.         1.         0.93333333 0.86666667\n",
      " 1.         0.86666667 0.86666667 0.93333333]\n",
      "Average CV Score:  0.9533333333333334\n",
      "Average CV Score:  0.9466666666666667\n",
      "Number of CV Scores used in Average:  10\n",
      "Number of CV Scores used in Average:  10\n"
     ]
    }
   ],
   "source": [
    "from sklearn import datasets\n",
    "from sklearn.tree import DecisionTreeClassifier\n",
    "from sklearn.linear_model import LogisticRegression\n",
    "from sklearn.model_selection import KFold,cross_val_score\n",
    "X, y = datasets.load_iris(return_X_y=True)\n",
    "clf1 = DecisionTreeClassifier(random_state=42)\n",
    "clf2 = LogisticRegression(max_iter=1000)\n",
    "k_folds = KFold(n_splits = 10)\n",
    "scores1 = cross_val_score(clf1, X, y, cv = k_folds)\n",
    "scores2 = cross_val_score(clf2, X, y, cv = k_folds)\n",
    "print(\"Cross Validation Scores: \", scores1)\n",
    "print(\"Cross Validation Scores: \", scores2)\n",
    "print(\"Average CV Score: \", scores1.mean())\n",
    "print(\"Average CV Score: \", scores2.mean())\n",
    "print(\"Number of CV Scores used in Average: \",\n",
    "len(scores1))\n",
    "print(\"Number of CV Scores used in Average: \",\n",
    "len(scores2))"
   ]
  }
 ],
 "metadata": {
  "kernelspec": {
   "display_name": "Python 3",
   "language": "python",
   "name": "python3"
  },
  "language_info": {
   "codemirror_mode": {
    "name": "ipython",
    "version": 3
   },
   "file_extension": ".py",
   "mimetype": "text/x-python",
   "name": "python",
   "nbconvert_exporter": "python",
   "pygments_lexer": "ipython3",
   "version": "3.12.6"
  }
 },
 "nbformat": 4,
 "nbformat_minor": 5
}
